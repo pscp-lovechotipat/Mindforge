{
 "cells": [
  {
   "cell_type": "markdown",
   "metadata": {},
   "source": [
    "# agent_document_summarize"
   ]
  },
  {
   "cell_type": "code",
   "execution_count": 27,
   "metadata": {},
   "outputs": [],
   "source": [
    "from typing import List, Dict, Any\n",
    "from langchain_core.prompts import ChatPromptTemplate\n",
    "from langchain_core.output_parsers import StrOutputParser\n",
    "from langchain_core.runnables import RunnablePassthrough\n",
    "from langchain.vectorstores import Chroma\n",
    "import json\n",
    "from module.document_processing import load_documents, split_documents\n",
    "from module.get_model_and_embeding import get_llm, get_embedding\n",
    "import config"
   ]
  },
  {
   "cell_type": "code",
   "execution_count": 35,
   "metadata": {},
   "outputs": [],
   "source": [
    "def setup_vectorstore(documents: List[Any], embeddings: Any) -> Any:\n",
    "    \"\"\"Create and return a vector store from the documents\"\"\"\n",
    "    return Chroma.from_documents(\n",
    "        documents=documents,\n",
    "        embedding=embeddings\n",
    "    )"
   ]
  },
  {
   "cell_type": "code",
   "execution_count": 36,
   "metadata": {},
   "outputs": [],
   "source": [
    "def create_prompt_template() -> ChatPromptTemplate:\n",
    "    \"\"\"Create and return the prompt template for role/task extraction\"\"\"\n",
    "    return ChatPromptTemplate.from_template(\n",
    "        template=\"\"\"\n",
    "        <system>\n",
    "        You are a helpful assistant specializing in data extraction from documents.\n",
    "        </system>\n",
    "\n",
    "        <user>\n",
    "        Your task is to extract all roles mentioned in the given documents and their associated tasks.\n",
    "        Provide your answer as a JSON string where keys are roles and values are lists of tasks.\n",
    "        Only return the JSON string without any additional explanation or formatting.\n",
    "\n",
    "        Example format:\n",
    "        {{\"Role1\": [\"Task1\", \"Task2\", \"Task3\"], \"Role2\": [\"Task1\", \"Task2\"]}}\n",
    "\n",
    "        Ensure your output is a valid JSON string that can be parsed directly.\n",
    "        </user>\n",
    "\n",
    "        <query>\n",
    "        Role in my team: {myteam}\n",
    "        Extract all roles and their associated tasks from the following document:\n",
    "        {context}\n",
    "        </query>\n",
    "        \"\"\"\n",
    "    )"
   ]
  },
  {
   "cell_type": "code",
   "execution_count": 30,
   "metadata": {},
   "outputs": [],
   "source": [
    "\n",
    "def process_document(\n",
    "    doc: Any,\n",
    "    chain: Any,\n",
    "    current_roles: List[str]\n",
    ") -> Dict[str, List[str]]:\n",
    "    \"\"\"Process a single document and return extracted roles and tasks\"\"\"\n",
    "    try:\n",
    "        # Execute chain\n",
    "        response = chain.invoke({\n",
    "            \"myteam\": \", \".join(current_roles),\n",
    "            \"document_content\": doc.page_content\n",
    "        })\n",
    "        \n",
    "        # Parse response\n",
    "        return json.loads(response)\n",
    "    except json.JSONDecodeError as e:\n",
    "        print(f\"Error parsing response for document: {e}\")\n",
    "        return {}\n",
    "    except Exception as e:\n",
    "        print(f\"Error processing document: {e}\")\n",
    "        return {}"
   ]
  },
  {
   "cell_type": "code",
   "execution_count": 31,
   "metadata": {},
   "outputs": [],
   "source": [
    "def process_single_document(\n",
    "    doc_content: str,\n",
    "    current_roles: List[str],\n",
    "    llm: Any,\n",
    "    output_parser: Any\n",
    ") -> Dict[str, List[str]]:\n",
    "    \"\"\"Process a single document and return extracted roles and tasks\"\"\"\n",
    "    try:\n",
    "        # Create prompt template for this specific document\n",
    "        prompt = ChatPromptTemplate.from_template(\n",
    "            template=\"\"\"\n",
    "            <system>\n",
    "            You are a helpful assistant specializing in data extraction from documents.\n",
    "            </system>\n",
    "\n",
    "            <user>\n",
    "            Your task is to extract all roles mentioned in the given documents and their associated tasks.\n",
    "            Provide your answer as a JSON string where keys are roles and values are lists of tasks.\n",
    "            Only return the JSON string without any additional explanation or formatting.\n",
    "\n",
    "            Example format:\n",
    "            {{\"Role1\": [\"Task1\", \"Task2\", \"Task3\"], \"Role2\": [\"Task1\", \"Task2\"]}}\n",
    "\n",
    "            Ensure your output is a valid JSON string that can be parsed directly.\n",
    "            </user>\n",
    "\n",
    "            <query>\n",
    "            Role in my team: {myteam}\n",
    "            Extract all roles and their associated tasks from the following document:\n",
    "            {document_content}\n",
    "            </query>\n",
    "            \"\"\"\n",
    "        )\n",
    "\n",
    "        # Create a simple chain for this document\n",
    "        chain = prompt | llm | output_parser\n",
    "        \n",
    "        # Execute chain with document content\n",
    "        response = chain.invoke({\n",
    "            \"myteam\": \", \".join(current_roles),\n",
    "            \"document_content\": doc_content\n",
    "        })\n",
    "        \n",
    "        # Parse response\n",
    "        return json.loads(response)\n",
    "    except json.JSONDecodeError as e:\n",
    "        print(f\"Error parsing response for document: {e}\")\n",
    "        return {}\n",
    "    except Exception as e:\n",
    "        print(f\"Error processing document: {e}\")\n",
    "        return {}"
   ]
  },
  {
   "cell_type": "code",
   "execution_count": 33,
   "metadata": {},
   "outputs": [],
   "source": [
    "\n",
    "# Example usage\n",
    "document_paths = [\n",
    "    r\"D:\\Mindforge\\AIService\\test_doc\\doc1.pdf\"\n",
    "]\n",
    "\n",
    "current_roles = [\n",
    "    \"Software Developer\",\n",
    "    \"UX Designer\",\n",
    "    \"Project Manager\"\n",
    "]"
   ]
  },
  {
   "cell_type": "code",
   "execution_count": 34,
   "metadata": {},
   "outputs": [
    {
     "name": "stdout",
     "output_type": "stream",
     "text": [
      "WARNING:tensorflow:From c:\\Users\\Tanap\\.conda\\envs\\torch_env\\Lib\\site-packages\\tf_keras\\src\\losses.py:2976: The name tf.losses.sparse_softmax_cross_entropy is deprecated. Please use tf.compat.v1.losses.sparse_softmax_cross_entropy instead.\n",
      "\n",
      "Loading documents...\n",
      "Loaded 27 documents.\n",
      "Splitting documents into chunks...\n",
      "Split into 27 chunks.\n",
      "Error processing document: 'dict' object has no attribute 'replace'\n",
      "Error processing document: 'dict' object has no attribute 'replace'\n",
      "Error processing document: 'dict' object has no attribute 'replace'\n",
      "Error processing document: 'dict' object has no attribute 'replace'\n",
      "Error processing document: 'dict' object has no attribute 'replace'\n",
      "Error processing document: 'dict' object has no attribute 'replace'\n",
      "Error processing document: 'dict' object has no attribute 'replace'\n",
      "Error processing document: 'dict' object has no attribute 'replace'\n",
      "Error processing document: 'dict' object has no attribute 'replace'\n",
      "Error processing document: 'dict' object has no attribute 'replace'\n",
      "Error processing document: 'dict' object has no attribute 'replace'\n",
      "Error processing document: 'dict' object has no attribute 'replace'\n",
      "Error processing document: 'dict' object has no attribute 'replace'\n",
      "Error processing document: 'dict' object has no attribute 'replace'\n",
      "Error processing document: 'dict' object has no attribute 'replace'\n",
      "Error processing document: 'dict' object has no attribute 'replace'\n",
      "Error processing document: 'dict' object has no attribute 'replace'\n",
      "Error processing document: 'dict' object has no attribute 'replace'\n",
      "Error processing document: 'dict' object has no attribute 'replace'\n",
      "Error processing document: 'dict' object has no attribute 'replace'\n",
      "Error processing document: 'dict' object has no attribute 'replace'\n",
      "Error processing document: 'dict' object has no attribute 'replace'\n",
      "Error processing document: 'dict' object has no attribute 'replace'\n",
      "Error processing document: 'dict' object has no attribute 'replace'\n",
      "Error processing document: 'dict' object has no attribute 'replace'\n",
      "Error processing document: 'dict' object has no attribute 'replace'\n",
      "Error processing document: 'dict' object has no attribute 'replace'\n"
     ]
    }
   ],
   "source": [
    "# Process documents\n",
    "results = process_documents(\n",
    "    document_paths=document_paths,\n",
    "    current_roles=current_roles\n",
    ")"
   ]
  },
  {
   "cell_type": "code",
   "execution_count": null,
   "metadata": {},
   "outputs": [],
   "source": [
    "print(json.dumps(results, indent=2))"
   ]
  },
  {
   "cell_type": "markdown",
   "metadata": {},
   "source": [
    "# agent_human_management.py"
   ]
  },
  {
   "cell_type": "code",
   "execution_count": 1,
   "metadata": {},
   "outputs": [],
   "source": []
  }
 ],
 "metadata": {
  "kernelspec": {
   "display_name": "Python 3",
   "language": "python",
   "name": "python3"
  },
  "language_info": {
   "codemirror_mode": {
    "name": "ipython",
    "version": 3
   },
   "file_extension": ".py",
   "mimetype": "text/x-python",
   "name": "python",
   "nbconvert_exporter": "python",
   "pygments_lexer": "ipython3",
   "version": "3.11.9"
  }
 },
 "nbformat": 4,
 "nbformat_minor": 2
}
