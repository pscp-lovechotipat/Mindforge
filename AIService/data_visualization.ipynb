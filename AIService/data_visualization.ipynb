{
 "cells": [
  {
   "cell_type": "code",
   "execution_count": null,
   "metadata": {},
   "outputs": [],
   "source": [
    "from module.agent_document_summarize import summarize_documents\n",
    "from module.agent_human_management import analyze_team_roles\n",
    "from module.get_model_and_embeding import get_llm , get_embedding\n",
    "import config"
   ]
  },
  {
   "cell_type": "markdown",
   "metadata": {},
   "source": [
    "## analyze_team_roles"
   ]
  },
  {
   "cell_type": "code",
   "execution_count": 1,
   "metadata": {},
   "outputs": [],
   "source": [
    "team_details = {\n",
    "    \"John Doe\": {\n",
    "        \"current_role\": \"Software Developer\",\n",
    "        \"skills\": [\"Python\", \"JavaScript\", \"Docker\"],\n",
    "        \"experience\": \"5 years in web development\"\n",
    "    },\n",
    "    \"Jane Smith\": {\n",
    "        \"current_role\": \"UX Designer\",\n",
    "        \"skills\": [\"UI/UX Design\", \"Figma\", \"User Research\"],\n",
    "        \"experience\": \"3 years in product design\"\n",
    "    },\n",
    "    \"Mike Johnson\": {\n",
    "        \"current_role\": \"Project Manager\",\n",
    "        \"skills\": [\"Agile Methodologies\", \"Risk Management\", \"Stakeholder Communication\"],\n",
    "        \"experience\": \"7 years in IT project management\"\n",
    "    }\n",
    "}\n",
    "\n",
    "# llm = get_llm()\n",
    "# result = analyze_team_roles(team_details, llm)"
   ]
  },
  {
   "cell_type": "code",
   "execution_count": 2,
   "metadata": {},
   "outputs": [
    {
     "name": "stdout",
     "output_type": "stream",
     "text": [
      "John Doe   {'current_role': 'Software Developer', 'skills': ['Python', 'JavaScript', 'Docker'], 'experience': '5 years in web development'}\n",
      "Jane Smith   {'current_role': 'UX Designer', 'skills': ['UI/UX Design', 'Figma', 'User Research'], 'experience': '3 years in product design'}\n",
      "Mike Johnson   {'current_role': 'Project Manager', 'skills': ['Agile Methodologies', 'Risk Management', 'Stakeholder Communication'], 'experience': '7 years in IT project management'}\n"
     ]
    }
   ],
   "source": [
    "for member_name, member_details in team_details.items():\n",
    "    print(member_name , \" \" , member_details)"
   ]
  },
  {
   "cell_type": "code",
   "execution_count": 3,
   "metadata": {},
   "outputs": [],
   "source": [
    "import json"
   ]
  },
  {
   "cell_type": "code",
   "execution_count": 4,
   "metadata": {},
   "outputs": [
    {
     "name": "stdout",
     "output_type": "stream",
     "text": [
      "John Doe   {\"current_role\": \"Software Developer\", \"skills\": [\"Python\", \"JavaScript\", \"Docker\"], \"experience\": \"5 years in web development\"}\n",
      "Jane Smith   {\"current_role\": \"UX Designer\", \"skills\": [\"UI/UX Design\", \"Figma\", \"User Research\"], \"experience\": \"3 years in product design\"}\n",
      "Mike Johnson   {\"current_role\": \"Project Manager\", \"skills\": [\"Agile Methodologies\", \"Risk Management\", \"Stakeholder Communication\"], \"experience\": \"7 years in IT project management\"}\n"
     ]
    }
   ],
   "source": [
    "for member_name, member_details in team_details.items():\n",
    "    print(member_name , \" \" , json.dumps(member_details))"
   ]
  }
 ],
 "metadata": {
  "kernelspec": {
   "display_name": "Python 3",
   "language": "python",
   "name": "python3"
  },
  "language_info": {
   "codemirror_mode": {
    "name": "ipython",
    "version": 3
   },
   "file_extension": ".py",
   "mimetype": "text/x-python",
   "name": "python",
   "nbconvert_exporter": "python",
   "pygments_lexer": "ipython3",
   "version": "3.12.3"
  }
 },
 "nbformat": 4,
 "nbformat_minor": 2
}
